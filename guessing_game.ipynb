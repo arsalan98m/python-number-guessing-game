{
 "cells": [
  {
   "cell_type": "code",
   "execution_count": 3,
   "metadata": {},
   "outputs": [
    {
     "name": "stdout",
     "output_type": "stream",
     "text": [
      "Guess the Number:\n",
      "Please input your guess between 1 to 30: 20\n",
      "Too Big\n",
      "\n",
      "You have 2 chances left.\n",
      "Please input your guess between 1 to 30: 1\n",
      "You Win!!!\n",
      "You Guessed it ! The number was 1 and 2 chances left.\n"
     ]
    }
   ],
   "source": [
    "import random\n",
    "\n",
    "print(\"Guess the Number:\")\n",
    "secret_number = random.randint(1,30)\n",
    "chances = 3\n",
    "\n",
    "while True:\n",
    "    user_number = int(input(\"Please input your guess between 1 to 30: \"))\n",
    "       \n",
    "    # Checking Secret number\n",
    "    if user_number == secret_number:\n",
    "        print(\"You Win!!!\")\n",
    "        print(f\"You Guessed it ! The number was {secret_number} and {chances} chances left.\")\n",
    "        break\n",
    "    elif user_number < secret_number:\n",
    "        print(\"Too small\")\n",
    "    elif user_number > secret_number:\n",
    "        print(\"Too Big\")\n",
    "        \n",
    "    # Checking chances to user guess the number\n",
    "    chances -=1\n",
    "    if chances == 0:\n",
    "        print(\"\\nYou loss!!\")\n",
    "        print(f\"Nope The number i was thinking is {secret_number}\")\n",
    "        break\n",
    "    print(f\"\\nYou have {chances} chances left.\")   \n",
    "\n",
    "    "
   ]
  },
  {
   "cell_type": "code",
   "execution_count": null,
   "metadata": {},
   "outputs": [],
   "source": []
  }
 ],
 "metadata": {
  "kernelspec": {
   "display_name": "Python 3",
   "language": "python",
   "name": "python3"
  },
  "language_info": {
   "codemirror_mode": {
    "name": "ipython",
    "version": 3
   },
   "file_extension": ".py",
   "mimetype": "text/x-python",
   "name": "python",
   "nbconvert_exporter": "python",
   "pygments_lexer": "ipython3",
   "version": "3.7.3"
  }
 },
 "nbformat": 4,
 "nbformat_minor": 2
}
